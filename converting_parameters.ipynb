{
 "cells": [
  {
   "cell_type": "code",
   "execution_count": 75,
   "metadata": {},
   "outputs": [],
   "source": [
    "import numpy as np\n",
    "import matplotlib\n",
    "import matplotlib.pyplot as plt\n",
    "\n",
    "data = np.genfromtxt('old_parameters.txt')\n",
    "\n",
    "wavelength = data[1:len(data), 0:1]\n",
    "\n",
    "T_star = data[1:len(data), 1:2]\n",
    "T_lower_error = data[1:len(data), 1:2]-data[1:len(data), 2:3]\n",
    "T_upper_error = data[1:len(data), 3:4]-data[1:len(data), 1:2]\n",
    "\n",
    "R_o = 1/data[1:len(data), 4:5]\n",
    "R_lower_error = R_o-1/data[1:len(data), 6:7]\n",
    "R_upper_error = 1/data[1:len(data), 5:6]-R_o\n",
    "\n",
    "norm = data[1:len(data), 7:8]\n",
    "norm_lower_error = norm-data[1:len(data), 8:9]\n",
    "norm_upper_error = data[1:len(data), 9:10]-norm\n",
    "\n",
    "file = open ('parameters_sketch.txt', 'w')\n",
    "for i in range (0, len(wavelength)):\n",
    "    file.write(str(wavelength[i][0])+' '\n",
    "               +str(np.around(T_star[i][0], 2))+' '\n",
    "               +str(np.around(T_lower_error[i][0], 2))+' '\n",
    "               +str(np.around(T_upper_error[i][0], 2))+' '\n",
    "               +str(np.around(R_o[i][0], 2))+' '\n",
    "               +str(np.around(R_lower_error[i][0], 2))+' '\n",
    "               +str(np.around(R_upper_error[i][0], 2))+' '\n",
    "               +str(np.around(norm[i][0], 9))+' '\n",
    "               +str(np.around(norm_lower_error[i][0], 9))+' '\n",
    "               +str(np.around(norm_upper_error[i][0], 9))+' '\n",
    "               +'\\n')\n",
    "    "
   ]
  },
  {
   "cell_type": "code",
   "execution_count": null,
   "metadata": {},
   "outputs": [],
   "source": []
  },
  {
   "cell_type": "code",
   "execution_count": null,
   "metadata": {},
   "outputs": [],
   "source": []
  }
 ],
 "metadata": {
  "kernelspec": {
   "display_name": "Python 3",
   "language": "python",
   "name": "python3"
  },
  "language_info": {
   "codemirror_mode": {
    "name": "ipython",
    "version": 3
   },
   "file_extension": ".py",
   "mimetype": "text/x-python",
   "name": "python",
   "nbconvert_exporter": "python",
   "pygments_lexer": "ipython3",
   "version": "3.7.1"
  }
 },
 "nbformat": 4,
 "nbformat_minor": 2
}
