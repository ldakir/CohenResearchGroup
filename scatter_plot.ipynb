{
 "cells": [
  {
   "cell_type": "markdown",
   "metadata": {},
   "source": [
    "importing libraries"
   ]
  },
  {
   "cell_type": "code",
   "execution_count": 71,
   "metadata": {},
   "outputs": [],
   "source": [
    "import numpy as np\n",
    "import matplotlib\n",
    "import matplotlib.pyplot as plt"
   ]
  },
  {
   "cell_type": "markdown",
   "metadata": {},
   "source": [
    "specifying Times New Roman font and to force that within plotting commands"
   ]
  },
  {
   "cell_type": "code",
   "execution_count": 72,
   "metadata": {},
   "outputs": [],
   "source": [
    "tnr = \"Times New Roman\"\n",
    "plt.rcParams['font.sans-serif'] = tnr\n",
    "plt.rcParams['font.family'] = tnr"
   ]
  },
  {
   "cell_type": "markdown",
   "metadata": {},
   "source": [
    "uploading files with data to be plotted"
   ]
  },
  {
   "cell_type": "code",
   "execution_count": 73,
   "metadata": {},
   "outputs": [],
   "source": [
    "data = np.genfromtxt('parameters.txt')"
   ]
  },
  {
   "cell_type": "markdown",
   "metadata": {},
   "source": [
    "defining variables for plotting"
   ]
  },
  {
   "cell_type": "code",
   "execution_count": 74,
   "metadata": {},
   "outputs": [],
   "source": [
    "wavelength = data[1:len(data), 0:1]\n",
    "\n",
    "T_star = data[1:len(data), 1:2]\n",
    "T_lower_error = data[1:len(data), 2:3]\n",
    "T_upper_error = data[1:len(data), 3:4]\n",
    "T_error = np.array([T_lower_error, T_upper_error])\n",
    "\n",
    "R_o = data[1:len(data), 4:5]\n",
    "R_lower_error = data[1:len(data), 5:6]\n",
    "R_upper_error = data[1:len(data), 6:7]\n",
    "R_error = np.array([R_lower_error, R_upper_error])\n",
    "\n",
    "norm = data[1:len(data), 7:8]\n",
    "norm_lower_error = data[1:len(data), 8:9]\n",
    "norm_upper_error = data[1:len(data), 9:10]\n",
    "norm_error = np.array([norm_lower_error, norm_upper_error])"
   ]
  },
  {
   "cell_type": "markdown",
   "metadata": {},
   "source": [
    "choosing parameter vs wavelength"
   ]
  },
  {
   "cell_type": "code",
   "execution_count": 75,
   "metadata": {},
   "outputs": [],
   "source": [
    "# if plotting taustar vs wavelength, param = 0\n",
    "# if plotting Ro vs wavelength, param = 1\n",
    "# if plotting norm vs wavelength, param = 2\n",
    "param = 0"
   ]
  },
  {
   "cell_type": "markdown",
   "metadata": {},
   "source": [
    "linking plotted y variable to specific parameter"
   ]
  },
  {
   "cell_type": "code",
   "execution_count": 76,
   "metadata": {},
   "outputs": [],
   "source": [
    "if param == 0:\n",
    "    y = T_star\n",
    "    y_error = T_error\n",
    "    y_upper_error = T_upper_error\n",
    "    param_name = r'$\\tau_{\\star}$'\n",
    "    param_tp = 'taustar'\n",
    "\n",
    "if param == 1:\n",
    "    y = R_o\n",
    "    y_error = R_error\n",
    "    y_upper_error = R_upper_error\n",
    "    param_name = r'$R_o$'\n",
    "    param_tp = 'Ro'\n",
    "    \n",
    "if param == 2:\n",
    "    y = norm\n",
    "    y_error = norm_error\n",
    "    y_upper_error = norm_upper_error\n",
    "    param_name = 'norm'\n",
    "    param_tp = 'norm'"
   ]
  },
  {
   "cell_type": "markdown",
   "metadata": {},
   "source": [
    "plotting"
   ]
  },
  {
   "cell_type": "code",
   "execution_count": 77,
   "metadata": {},
   "outputs": [
    {
     "data": {
      "image/png": "[encoded data removed]",
      "text/plain": [
       "<Figure size 720x576 with 1 Axes>"
      ]
     },
     "metadata": {
      "needs_background": "light"
     },
     "output_type": "display_data"
    }
   ],
   "source": [
    "# determining plot size and labeling the plot\n",
    "\n",
    "plt.figure(figsize = (10, 8))\n",
    "\n",
    "plt.xlabel('Wavelength(Å)', fontsize = 23)\n",
    "plt.ylabel(param_name, fontsize = 23)\n",
    "plt.xticks(fontsize = 19)\n",
    "plt.yticks(fontsize = 19)\n",
    "\n",
    "plt.ylim(bottom = 0., top = (np.max(y+y_upper_error))*1.1)\n",
    "\n",
    "\n",
    "# plotting data points and their error bars\n",
    "\n",
    "plt.plot(wavelength, y, 'o', color = 'black', markersize = 5)\n",
    "plt.errorbar(wavelength, y, yerr = y_error, ls = 'none', color = 'black', linewidth = 0.5,capsize = 2.,capthick = 1.5)\n",
    "\n",
    "\n",
    "\n",
    "#axs[0].set_ylim(bottom = 0., top = np.max(T_star+T_upper_error)+0.5)\n",
    "\n",
    "plt.savefig(param_tp+'_vs_wavelength.png')\n",
    "plt.show()"
   ]
  },
  {
   "cell_type": "code",
   "execution_count": null,
   "metadata": {},
   "outputs": [],
   "source": []
  },
  {
   "cell_type": "code",
   "execution_count": null,
   "metadata": {},
   "outputs": [],
   "source": []
  },
  {
   "cell_type": "code",
   "execution_count": null,
   "metadata": {},
   "outputs": [],
   "source": []
  },
  {
   "cell_type": "code",
   "execution_count": null,
   "metadata": {},
   "outputs": [],
   "source": []
  }
 ],
 "metadata": {
  "kernelspec": {
   "display_name": "Python 3",
   "language": "python",
   "name": "python3"
  },
  "language_info": {
   "codemirror_mode": {
    "name": "ipython",
    "version": 3
   },
   "file_extension": ".py",
   "mimetype": "text/x-python",
   "name": "python",
   "nbconvert_exporter": "python",
   "pygments_lexer": "ipython3",
   "version": "3.7.1"
  }
 },
 "nbformat": 4,
 "nbformat_minor": 2
}
