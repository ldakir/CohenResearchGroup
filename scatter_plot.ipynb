{
 "cells": [
  {
   "cell_type": "markdown",
   "metadata": {},
   "source": [
    "importing libraries"
   ]
  },
  {
   "cell_type": "code",
   "execution_count": 536,
   "metadata": {},
   "outputs": [],
   "source": [
    "import numpy as np\n",
    "import matplotlib\n",
    "import matplotlib.pyplot as plt"
   ]
  },
  {
   "cell_type": "markdown",
   "metadata": {},
   "source": [
    "specifying Times New Roman font and to force that within plotting commands"
   ]
  },
  {
   "cell_type": "code",
   "execution_count": 537,
   "metadata": {},
   "outputs": [],
   "source": [
    "tnr = \"Times New Roman\"\n",
    "plt.rcParams['font.sans-serif'] = tnr\n",
    "plt.rcParams['font.family'] = tnr\n",
    "params ={'mathtext.default':'regular'}          \n",
    "plt.rcParams.update(params)"
   ]
  },
  {
   "cell_type": "markdown",
   "metadata": {},
   "source": [
    "uploading files with data to be plotted"
   ]
  },
  {
   "cell_type": "code",
   "execution_count": 549,
   "metadata": {},
   "outputs": [],
   "source": [
    "data = np.genfromtxt('parameters.txt')\n",
    "old_data = np.genfromtxt('640_parameters.txt')\n",
    "opacity_data = np.genfromtxt('kappaZ.txt')[2000:]\n",
    "ObsID = 640"
   ]
  },
  {
   "cell_type": "markdown",
   "metadata": {},
   "source": [
    "defining variables for plotting"
   ]
  },
  {
   "cell_type": "code",
   "execution_count": 550,
   "metadata": {},
   "outputs": [],
   "source": [
    "wavelength = data[1:len(data), 0]\n",
    "\n",
    "T_star = data[1:len(data), 1:2]\n",
    "T_lower_error = data[1:len(data), 2:3]\n",
    "T_upper_error = data[1:len(data), 3:4]\n",
    "T_error = np.array([T_lower_error, T_upper_error])\n",
    "\n",
    "R_o = data[1:len(data), 4:5]\n",
    "R_lower_error = data[1:len(data), 5:6]\n",
    "R_upper_error = data[1:len(data), 6:7]\n",
    "R_error = np.array([R_lower_error, R_upper_error])\n",
    "\n",
    "old_norm = old_data[1:len(data), 7:8]\n",
    "norm = []\n",
    "norm_lower_error = []\n",
    "norm_upper_error = []\n",
    "for j in range (0, len(data)):\n",
    "    for i in range (0, len(old_data)):\n",
    "        if data[j, 0] == old_data[i, 0]:\n",
    "            norm.append(data[j, 7]/old_data[i, 7])\n",
    "            norm_lower_error.append(data[j, 8]/old_data[i, 7])\n",
    "            norm_upper_error.append(data[j, 9]/old_data[i, 7])\n",
    "norm = np.asarray(norm)\n",
    "norm_lower_error = np.asarray(norm_lower_error)\n",
    "norm_upper_error = np.asarray(norm_upper_error)\n",
    "norm_error = np.array([norm_lower_error, norm_upper_error])"
   ]
  },
  {
   "cell_type": "markdown",
   "metadata": {},
   "source": [
    "finding taustar model to minimize chisquare, fitting mass loss rate by wavelength-dependent opacity"
   ]
  },
  {
   "cell_type": "code",
   "execution_count": 551,
   "metadata": {},
   "outputs": [],
   "source": [
    "photon_energy = opacity_data[0:len(opacity_data), 0] # in keV\n",
    "opacity_wavelength = 12.408/photon_energy # 12.408 = h*c*(10^{10})/(1.602*10^{-16})\n",
    "opacity = opacity_data[0:len(opacity_data), 1] # in cm^2/g\n",
    "\n",
    "T_model_param = r'$\\tau_{\\star}$'\n"
   ]
  },
  {
   "cell_type": "markdown",
   "metadata": {},
   "source": [
    "finding horizontal Ro model to minimize chisquare"
   ]
  },
  {
   "cell_type": "code",
   "execution_count": 553,
   "metadata": {},
   "outputs": [],
   "source": [
    "R_model_param = r'$R_o$'\n",
    "interval_num = 1000\n",
    "a = np.linspace(np.min(R_o-R_lower_error), np.max(R_o+R_upper_error), interval_num)\n",
    "chi_square = []\n",
    "for i in (a):\n",
    "    deviation = 0\n",
    "    for j in range(0, len(R_o)):\n",
    "        if R_o[j] >= i:\n",
    "            error_bar = R_lower_error[j]\n",
    "        if R_o[j] <= i:\n",
    "            error_bar = R_upper_error[j]\n",
    "        if R_o[j] == i:\n",
    "            error_bar = (R_lower_error[j]+R_upper_error[j])/2\n",
    "        deviation = ((R_o[j]-i)/error_bar)**2+deviation\n",
    "    chi_square.append(deviation)\n",
    "R_model_param_value = a[chi_square.index(np.min(chi_square))]\n",
    "R_model = np.repeat(R_model_param_value, len(R_o))\n",
    "R_reduced_chi_square = np.min(chi_square)/(len(R_o)-1)\n",
    "R_delta_chi_square_1 = a[(np.abs((R_reduced_chi_square+1)*(len(R_o)-1)-chi_square)).argmin()]\n",
    "R_delta_chi_square_1_model = np.repeat(R_delta_chi_square_1, len(R_o))\n",
    "R_delta_chi_square_2 = a[(np.abs((R_reduced_chi_square+1)*(len(R_o)-1)-np.where(chi_square == chi_square[(np.abs((R_reduced_chi_square+1)*(len(R_o)-1)-chi_square)).argmin()], -1., chi_square))).argmin()]\n",
    "R_delta_chi_square_2_model = np.repeat(R_delta_chi_square_2, len(R_o))"
   ]
  },
  {
   "cell_type": "markdown",
   "metadata": {},
   "source": [
    "finding horizontal norm model to minimize chisquare"
   ]
  },
  {
   "cell_type": "code",
   "execution_count": 524,
   "metadata": {},
   "outputs": [],
   "source": [
    "norm_model_param = 'norm'\n",
    "interval_num = 10\n",
    "a = np.linspace(np.min(norm), np.max(norm), interval_num)\n",
    "chi_square = []\n",
    "for i in (a):\n",
    "    deviation = 0\n",
    "    for j in range(0, len(norm)):\n",
    "        if norm[j] >= i:\n",
    "            error_bar = norm_lower_error[j]\n",
    "        if norm[j] <= i:\n",
    "            error_bar = norm_upper_error[j]\n",
    "        if norm[j] == i:\n",
    "            error_bar = (norm_lower_error[j]+norm_upper_error[j])/2\n",
    "        deviation = ((norm[j]-i)/error_bar)**2+deviation\n",
    "    chi_square.append(deviation)\n",
    "norm_model_param_value = a[chi_square.index(np.min(chi_square))]\n",
    "norm_model = np.repeat(norm_model_param_value, len(norm))\n",
    "norm_reduced_chi_square = np.min(chi_square)/(len(norm)-1)\n",
    "norm_delta_chi_square_1 = a[(np.abs((norm_reduced_chi_square+1)*(len(norm)-1)-chi_square)).argmin()]\n",
    "norm_delta_chi_square_1_model = np.repeat(norm_delta_chi_square_1, len(norm))\n",
    "norm_delta_chi_square_2 = a[(np.abs((norm_reduced_chi_square+1)*(len(norm)-1)-np.where(chi_square == chi_square[(np.abs((norm_reduced_chi_square+1)*(len(norm)-1)-chi_square)).argmin()], -1., chi_square))).argmin()]\n",
    "norm_delta_chi_square_2_model = np.repeat(norm_delta_chi_square_2, len(norm))"
   ]
  },
  {
   "cell_type": "markdown",
   "metadata": {},
   "source": [
    "choosing parameter vs wavelength"
   ]
  },
  {
   "cell_type": "code",
   "execution_count": 525,
   "metadata": {},
   "outputs": [],
   "source": [
    "# if plotting taustar vs wavelength, param = 0\n",
    "# if plotting Ro vs wavelength, param = 1\n",
    "# if plotting norm vs wavelength, param = 2\n",
    "param = 2"
   ]
  },
  {
   "cell_type": "markdown",
   "metadata": {},
   "source": [
    "linking plotted y variable to specific parameter"
   ]
  },
  {
   "cell_type": "code",
   "execution_count": 532,
   "metadata": {},
   "outputs": [],
   "source": [
    "if param == 0:\n",
    "    y = T_star\n",
    "    y_error = T_error\n",
    "    y_upper_error = T_upper_error\n",
    "    y_lower_error = T_lower_error\n",
    "    param_name = r'$\\tau_{\\star}$'\n",
    "    param_tp = 'taustar'\n",
    "\n",
    "if param == 1:\n",
    "    y = R_o\n",
    "    y_error = R_error\n",
    "    y_upper_error = R_upper_error\n",
    "    y_lower_error = R_lower_error\n",
    "    param_name = r'$R_o$'\n",
    "    param_tp = 'Ro'\n",
    "    model = R_model\n",
    "    model_param = R_model_param\n",
    "    model_param_value = R_model_param_value\n",
    "    reduced_chi_square = R_reduced_chi_square\n",
    "    delta_chi_square_1 = R_delta_chi_square_1\n",
    "    delta_chi_square_1_model = R_delta_chi_square_1_model\n",
    "    delta_chi_square_2 = R_delta_chi_square_2\n",
    "    delta_chi_square_2_model = R_delta_chi_square_2_model\n",
    "    \n",
    "if param == 2:\n",
    "    y = 'norm'\n",
    "    y_error = norm_error\n",
    "    y_upper_error = norm_upper_error\n",
    "    y_lower_error = norm_lower_error\n",
    "    param_name = 'norm'\n",
    "    param_tp = 'norm'\n",
    "    model = norm_model\n",
    "    model_param = norm_model_param\n",
    "    model_param_value = norm_model_param_value\n",
    "    reduced_chi_square = norm_reduced_chi_square\n",
    "    delta_chi_square_1 = norm_delta_chi_square_1\n",
    "    delta_chi_square_1_model = norm_delta_chi_square_1_model\n",
    "    delta_chi_square_2 = norm_delta_chi_square_2\n",
    "    delta_chi_square_2_model = norm_delta_chi_square_2_model "
   ]
  },
  {
   "cell_type": "markdown",
   "metadata": {},
   "source": [
    "plotting"
   ]
  },
  {
   "cell_type": "code",
   "execution_count": 527,
   "metadata": {},
   "outputs": [
    {
     "data": {
      "image/png": "[encoded data removed]",
      "text/plain": [
       "<Figure size 720x576 with 1 Axes>"
      ]
     },
     "metadata": {
      "needs_background": "light"
     },
     "output_type": "display_data"
    }
   ],
   "source": [
    "# determining plot size and labeling the plot\n",
    "\n",
    "plt.figure(figsize = (10, 8))\n",
    "\n",
    "plt.xlabel('Wavelength(Å)', fontsize = 23)\n",
    "plt.ylabel(param_name, fontsize = 23)\n",
    "plt.xticks(fontsize = 19)\n",
    "plt.yticks(fontsize = 19)\n",
    "\n",
    "plt.ylim(bottom = (np.min(y-y_lower_error))*0.8, top = (np.max(y+y_upper_error))*1.1)\n",
    "\n",
    "plt.figtext(0.68,0.83, 'ObsID: '+str(ObsID), fontname=tnr, fontsize=19)\n",
    "\n",
    "\n",
    "# plotting data points and their error bars\n",
    "\n",
    "plt.plot(wavelength, y, 'o', color = 'black', markersize = 5)\n",
    "plt.errorbar(wavelength, y, yerr = y_error, ls = 'none', color = 'black', linewidth = 0.5,capsize = 2.,capthick = 1.5)\n",
    "\n",
    "\n",
    "# plotting and noting parameters of the model\n",
    "plt.plot(wavelength, model, color = 'lightcoral', linestyle='-', linewidth=2.0)\n",
    "plt.plot(wavelength, delta_chi_square_1_model, color = 'lightgrey', linestyle='-', linewidth=1.0)\n",
    "plt.plot(wavelength, delta_chi_square_2_model, color = 'lightgrey', linestyle='-', linewidth=1.0)\n",
    "plt.fill_between(wavelength, delta_chi_square_1_model, delta_chi_square_2_model, color='whitesmoke')\n",
    "\n",
    "plt.figtext(0.68,0.78, model_param+' = '+str(np.around(model_param_value, 3)), fontsize=19)\n",
    "plt.figtext(0.68,0.73, r'reduced $\\chi^2$ = '+str(np.around(reduced_chi_square, 3)), fontsize=19)\n",
    "\n",
    "plt.savefig(param_tp+'_vs_wavelength.png')\n",
    "plt.show()"
   ]
  },
  {
   "cell_type": "code",
   "execution_count": null,
   "metadata": {},
   "outputs": [],
   "source": []
  }
 ],
 "metadata": {
  "kernelspec": {
   "display_name": "Python 3",
   "language": "python",
   "name": "python3"
  },
  "language_info": {
   "codemirror_mode": {
    "name": "ipython",
    "version": 3
   },
   "file_extension": ".py",
   "mimetype": "text/x-python",
   "name": "python",
   "nbconvert_exporter": "python",
   "pygments_lexer": "ipython3",
   "version": "3.7.3"
  }
 },
 "nbformat": 4,
 "nbformat_minor": 2
}
